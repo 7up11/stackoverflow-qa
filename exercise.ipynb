{
 "cells": [
  {
   "cell_type": "code",
   "execution_count": 8,
   "id": "c20a43e7-3583-46ce-b59e-8393ff24765d",
   "metadata": {},
   "outputs": [],
   "source": [
    "from datasets import load_dataset\n",
    "from transformers import AutoTokenizer, DataCollatorForLanguageModeling, AutoModelForCausalLM, TrainingArguments, Trainer, pipeline\n",
    "import seaborn as sns\n",
    "import torch"
   ]
  },
  {
   "cell_type": "code",
   "execution_count": 2,
   "id": "7c3d2ee8-3821-473e-b045-ca7ca29a526a",
   "metadata": {},
   "outputs": [],
   "source": [
    "data = load_dataset(\"avaliev/chat_doctor\")"
   ]
  },
  {
   "cell_type": "markdown",
   "id": "987691ee-8b01-4b63-a53a-dc47e781da4a",
   "metadata": {},
   "source": [
    "Causal language model"
   ]
  },
  {
   "cell_type": "code",
   "execution_count": 35,
   "id": "734a668b-ef45-40d8-b870-8811f636cf98",
   "metadata": {},
   "outputs": [
    {
     "name": "stderr",
     "output_type": "stream",
     "text": [
      "Map: 100%|███████████████████████████████████████████████████████████████| 95588/95588 [00:38<00:00, 2452.42 examples/s]\n",
      "Map: 100%|███████████████████████████████████████████████████████████████| 11949/11949 [00:04<00:00, 2496.04 examples/s]\n",
      "Map: 100%|███████████████████████████████████████████████████████████████| 11949/11949 [00:04<00:00, 2491.64 examples/s]\n"
     ]
    }
   ],
   "source": [
    "tokenizer = AutoTokenizer.from_pretrained(\"distilbert/distilgpt2\")\n",
    "tokens = data.map(lambda batch: tokenizer(batch[\"output\"]), batched=True, remove_columns=data[\"train\"].column_names)\n",
    "block_size = 128\n",
    "\n",
    "e = None\n",
    "def group_texts(examples):\n",
    "    # Concatenate all texts.\n",
    "    global e\n",
    "    e = examples\n",
    "    concatenated_examples = {k: sum(examples[k], []) for k in examples.keys()}\n",
    "    total_length = len(concatenated_examples[list(examples.keys())[0]])\n",
    "    # We drop the small remainder, we could add padding if the model supported it instead of this drop, you can\n",
    "    # customize this part to your needs.\n",
    "    if total_length >= block_size:\n",
    "        total_length = (total_length // block_size) * block_size\n",
    "    # Split by chunks of block_size.\n",
    "    result = {\n",
    "        k: [t[i : i + block_size] for i in range(0, total_length, block_size)]\n",
    "        for k, t in concatenated_examples.items()\n",
    "    }\n",
    "    result[\"labels\"] = result[\"input_ids\"].copy()\n",
    "    return result\n",
    "\n",
    "labelled = tokens.map(group_texts, batched=True)"
   ]
  },
  {
   "cell_type": "code",
   "execution_count": 7,
   "id": "a296977d-91bb-48c2-80ca-515aaed123f3",
   "metadata": {},
   "outputs": [
    {
     "name": "stderr",
     "output_type": "stream",
     "text": [
      "/tmp/ipykernel_81293/98940707.py:10: FutureWarning: `tokenizer` is deprecated and will be removed in version 5.0.0 for `Trainer.__init__`. Use `processing_class` instead.\n",
      "  trainer = Trainer(\n"
     ]
    },
    {
     "data": {
      "text/html": [
       "\n",
       "    <div>\n",
       "      \n",
       "      <progress value='3750' max='3750' style='width:300px; height:20px; vertical-align: middle;'></progress>\n",
       "      [3750/3750 03:19, Epoch 3/3]\n",
       "    </div>\n",
       "    <table border=\"1\" class=\"dataframe\">\n",
       "  <thead>\n",
       " <tr style=\"text-align: left;\">\n",
       "      <th>Epoch</th>\n",
       "      <th>Training Loss</th>\n",
       "      <th>Validation Loss</th>\n",
       "    </tr>\n",
       "  </thead>\n",
       "  <tbody>\n",
       "    <tr>\n",
       "      <td>1</td>\n",
       "      <td>3.639200</td>\n",
       "      <td>3.451849</td>\n",
       "    </tr>\n",
       "    <tr>\n",
       "      <td>2</td>\n",
       "      <td>3.419600</td>\n",
       "      <td>3.357159</td>\n",
       "    </tr>\n",
       "    <tr>\n",
       "      <td>3</td>\n",
       "      <td>3.355900</td>\n",
       "      <td>3.334287</td>\n",
       "    </tr>\n",
       "  </tbody>\n",
       "</table><p>"
      ],
      "text/plain": [
       "<IPython.core.display.HTML object>"
      ]
     },
     "metadata": {},
     "output_type": "display_data"
    },
    {
     "data": {
      "text/plain": [
       "TrainOutput(global_step=3750, training_loss=3.509384716796875, metrics={'train_runtime': 199.8689, 'train_samples_per_second': 150.098, 'train_steps_per_second': 18.762, 'total_flos': 979862814720000.0, 'train_loss': 3.509384716796875, 'epoch': 3.0})"
      ]
     },
     "execution_count": 7,
     "metadata": {},
     "output_type": "execute_result"
    }
   ],
   "source": [
    "tokenizer.pad_token = tokenizer.eos_token\n",
    "data_collator = DataCollatorForLanguageModeling(tokenizer=tokenizer, mlm=False)\n",
    "model = AutoModelForCausalLM.from_pretrained(\"distilbert/distilgpt2\")\n",
    "training_args = TrainingArguments(\n",
    "    output_dir=\"causal-qa\",\n",
    "    eval_strategy=\"epoch\",\n",
    "    learning_rate=2e-5,\n",
    "    weight_decay=0.01\n",
    ")\n",
    "trainer = Trainer(\n",
    "    model=model,\n",
    "    args=training_args,\n",
    "    train_dataset=labelled[\"train\"].take(10000),\n",
    "    eval_dataset=labelled[\"validation\"].take(2000),\n",
    "    data_collator=data_collator,\n",
    "    tokenizer=tokenizer\n",
    ")\n",
    "trainer.train()\n",
    "trainer.save_model(\"causal-qa-3epochs\")"
   ]
  },
  {
   "cell_type": "code",
   "execution_count": 16,
   "id": "816c4783-35a9-4875-9a02-3f0007dc6b2e",
   "metadata": {},
   "outputs": [
    {
     "name": "stderr",
     "output_type": "stream",
     "text": [
      "Device set to use cuda:0\n"
     ]
    },
    {
     "data": {
      "text/plain": [
       "[{'generated_text': 'what to do if i have a headache or any other problem then i would suggest you not to worry much.  Chat Doctor.  Also if you have a similar feeling in motion or feel tired feel free to ask further questions. Hope to have been'}]"
      ]
     },
     "execution_count": 16,
     "metadata": {},
     "output_type": "execute_result"
    }
   ],
   "source": [
    "generator = pipeline(\"text-generation\", model=\"./causal-qa-3epochs\")\n",
    "generator(\"what to do if i have a headache\")"
   ]
  },
  {
   "cell_type": "code",
   "execution_count": null,
   "id": "2b07a303-afb9-40ce-bd16-92e61c7778f0",
   "metadata": {},
   "outputs": [],
   "source": []
  }
 ],
 "metadata": {
  "kernelspec": {
   "display_name": "Python 3 (ipykernel)",
   "language": "python",
   "name": "python3"
  },
  "language_info": {
   "codemirror_mode": {
    "name": "ipython",
    "version": 3
   },
   "file_extension": ".py",
   "mimetype": "text/x-python",
   "name": "python",
   "nbconvert_exporter": "python",
   "pygments_lexer": "ipython3",
   "version": "3.12.8"
  }
 },
 "nbformat": 4,
 "nbformat_minor": 5
}
